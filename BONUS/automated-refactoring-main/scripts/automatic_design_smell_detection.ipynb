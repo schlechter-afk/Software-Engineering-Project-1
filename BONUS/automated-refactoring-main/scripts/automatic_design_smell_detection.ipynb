{
 "cells": [
  {
   "cell_type": "code",
   "execution_count": 40,
   "metadata": {},
   "outputs": [],
   "source": [
    "import openai"
   ]
  },
  {
   "cell_type": "code",
   "execution_count": 41,
   "metadata": {},
   "outputs": [],
   "source": [
    "from openai import OpenAI\n",
    "client = OpenAI()"
   ]
  },
  {
   "cell_type": "code",
   "execution_count": 1,
   "metadata": {},
   "outputs": [],
   "source": [
    "import os\n",
    "import git\n",
    "from git import Repo\n",
    "\n",
    "GITHUB_REPO_URL = \"https://github.com/FlightVin/refactoring-test-repo\"\n",
    "LOCAL_REPO_PATH = \"./clone_repo\"\n",
    "\n",
    "DESIGN_SMELL_CHECK_PROMPT = \"\"\"\n",
    "You are a senior software engineer. Analyze this code for design smells after reading relevant documentation and codebase:\n",
    "\"\"\"\n",
    "\n",
    "def clone_or_pull_repo(repo_url, local_path):\n",
    "    if os.path.isdir(local_path):\n",
    "        print(\"Repository already cloned. Pulling latest changes...\")\n",
    "        repo = Repo(local_path)\n",
    "        origin = repo.remotes.origin\n",
    "        origin.pull()\n",
    "    else:\n",
    "        print(\"Cloning repository...\")\n",
    "        Repo.clone_from(repo_url, local_path)\n",
    "\n",
    "def analyze_code_for_design_smells(code):\n",
    "    response = client.completions.create(\n",
    "        model=\"gpt-3.5-turbo\",\n",
    "        prompt=DESIGN_SMELL_CHECK_PROMPT + \"\\n\\nCode:\\n\" + code,\n",
    "        temperature=0.5,\n",
    "        max_tokens=max(50, len(code)+100),\n",
    "        top_p=1.0,\n",
    "        frequency_penalty=0.0,\n",
    "        presence_penalty=0.0\n",
    "    )\n",
    "    return response.choices[0].text.strip()"
   ]
  },
  {
   "cell_type": "code",
   "execution_count": null,
   "metadata": {},
   "outputs": [],
   "source": [
    "clone_or_pull_repo(GITHUB_REPO_URL, LOCAL_REPO_PATH)\n",
    "print(\"Repository cloned successfully\")\n",
    "file_path = os.path.join(LOCAL_REPO_PATH, 'books-web/src/main/java/com/sismics/books/rest/resource/TagResource.java')\n",
    "print(\"Analyzing code in file:\", file_path)"
   ]
  },
  {
   "cell_type": "code",
   "execution_count": null,
   "metadata": {},
   "outputs": [],
   "source": [
    "with open(file_path, 'r') as file:\n",
    "    code = file.read()\n",
    "    design_smells = analyze_code_for_design_smells(code)\n",
    "    print(\"Design Smells Found:\", design_smells)\n",
    "    print('\\n')\n",
    "    print(\"Code Analysis Complete\")"
   ]
  }
 ],
 "metadata": {
  "kernelspec": {
   "display_name": "Python 3",
   "language": "python",
   "name": "python3"
  },
  "language_info": {
   "codemirror_mode": {
    "name": "ipython",
    "version": 3
   },
   "file_extension": ".py",
   "mimetype": "text/x-python",
   "name": "python",
   "nbconvert_exporter": "python",
   "pygments_lexer": "ipython3",
   "version": "3.9.6"
  }
 },
 "nbformat": 4,
 "nbformat_minor": 2
}
