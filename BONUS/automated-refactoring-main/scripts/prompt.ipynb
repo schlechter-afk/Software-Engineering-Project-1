{
 "cells": [
  {
   "cell_type": "code",
   "execution_count": 3,
   "metadata": {},
   "outputs": [
    {
     "name": "stdout",
     "output_type": "stream",
     "text": [
      "WARNING: __file__ not found, trying local\n",
      "Library path /home/vineeth/Desktop/III-II/SE/project/automated-refactoring already in PYTHONPATH\n"
     ]
    }
   ],
   "source": [
    "import os\n",
    "from pathlib import Path\n",
    "import sys\n",
    "\n",
    "# Set the \"./../\" from the script folder\n",
    "dir_name = None\n",
    "try:\n",
    "    dir_name = os.path.dirname(os.path.realpath(__file__))\n",
    "except NameError:\n",
    "    print(\"WARNING: __file__ not found, trying local\")\n",
    "    dir_name = os.path.abspath('')\n",
    "lib_path = os.path.realpath(f\"{Path(dir_name).parent}\")\n",
    "# Add to path\n",
    "if lib_path not in sys.path:\n",
    "    print(f\"Adding library path: {lib_path} to PYTHONPATH\")\n",
    "    sys.path.append(lib_path)\n",
    "else:\n",
    "    print(f\"Library path {lib_path} already in PYTHONPATH\")\n",
    "\n",
    "import utilities"
   ]
  },
  {
   "cell_type": "code",
   "execution_count": 4,
   "metadata": {},
   "outputs": [],
   "source": [
    "prompt = utilities.build_prompt(\"../base_prompt.json\", \"../temp/code-smells.txt\", \"../temp/refactoring-test-repo-main/books-web/src/main/java/com/sismics/books/rest/resource/UserResource.java\")\n",
    "\n",
    "with open(\"example_prompt.txt\", \"w\") as f:\n",
    "    f.write(prompt)"
   ]
  },
  {
   "cell_type": "code",
   "execution_count": null,
   "metadata": {},
   "outputs": [],
   "source": []
  }
 ],
 "metadata": {
  "kernelspec": {
   "display_name": "se",
   "language": "python",
   "name": "python3"
  },
  "language_info": {
   "codemirror_mode": {
    "name": "ipython",
    "version": 3
   },
   "file_extension": ".py",
   "mimetype": "text/x-python",
   "name": "python",
   "nbconvert_exporter": "python",
   "pygments_lexer": "ipython3",
   "version": "3.10.13"
  }
 },
 "nbformat": 4,
 "nbformat_minor": 2
}
