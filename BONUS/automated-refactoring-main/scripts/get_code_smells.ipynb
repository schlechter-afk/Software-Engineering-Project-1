{
 "cells": [
  {
   "cell_type": "code",
   "execution_count": 1,
   "metadata": {},
   "outputs": [
    {
     "name": "stdout",
     "output_type": "stream",
     "text": [
      "WARNING: __file__ not found, trying local\n",
      "Adding library path: /home/vineeth/Desktop/III-II/SE/project/automated-refactoring to PYTHONPATH\n"
     ]
    }
   ],
   "source": [
    "import os\n",
    "from pathlib import Path\n",
    "import sys\n",
    "\n",
    "# Set the \"./../\" from the script folder\n",
    "dir_name = None\n",
    "try:\n",
    "    dir_name = os.path.dirname(os.path.realpath(__file__))\n",
    "except NameError:\n",
    "    print(\"WARNING: __file__ not found, trying local\")\n",
    "    dir_name = os.path.abspath('')\n",
    "lib_path = os.path.realpath(f\"{Path(dir_name).parent}\")\n",
    "# Add to path\n",
    "if lib_path not in sys.path:\n",
    "    print(f\"Adding library path: {lib_path} to PYTHONPATH\")\n",
    "    sys.path.append(lib_path)\n",
    "else:\n",
    "    print(f\"Library path {lib_path} already in PYTHONPATH\")\n",
    "\n",
    "import utilities"
   ]
  },
  {
   "cell_type": "code",
   "execution_count": 2,
   "metadata": {},
   "outputs": [
    {
     "data": {
      "text/plain": [
       "CompletedProcess(args='java -jar ../checkstyle/checkstyle-10.13.0-all.jar         -c ../checkstyle/metric-checks.xml ../temp/refactoring-test-repo-main         > ../temp/code-smells.txt', returncode=43, stdout='', stderr='Checkstyle ends with 43 errors.\\n')"
      ]
     },
     "execution_count": 2,
     "metadata": {},
     "output_type": "execute_result"
    }
   ],
   "source": [
    "utilities.run_checkstyle(\"../checkstyle/\", \"../temp/refactoring-test-repo-main\", \"../temp/code-smells.txt\")"
   ]
  },
  {
   "cell_type": "code",
   "execution_count": 2,
   "metadata": {},
   "outputs": [
    {
     "ename": "ImportError",
     "evalue": "cannot import name 'cc_rank' from 'radon.metrics' (/home/vineeth/miniconda3/envs/se/lib/python3.10/site-packages/radon/metrics.py)",
     "output_type": "error",
     "traceback": [
      "\u001b[0;31m---------------------------------------------------------------------------\u001b[0m",
      "\u001b[0;31mImportError\u001b[0m                               Traceback (most recent call last)",
      "Cell \u001b[0;32mIn[2], line 3\u001b[0m\n\u001b[1;32m      1\u001b[0m \u001b[38;5;28;01mimport\u001b[39;00m \u001b[38;5;21;01msubprocess\u001b[39;00m\n\u001b[1;32m      2\u001b[0m \u001b[38;5;28;01mfrom\u001b[39;00m \u001b[38;5;21;01mradon\u001b[39;00m\u001b[38;5;21;01m.\u001b[39;00m\u001b[38;5;21;01mraw\u001b[39;00m \u001b[38;5;28;01mimport\u001b[39;00m analyze\n\u001b[0;32m----> 3\u001b[0m \u001b[38;5;28;01mfrom\u001b[39;00m \u001b[38;5;21;01mradon\u001b[39;00m\u001b[38;5;21;01m.\u001b[39;00m\u001b[38;5;21;01mmetrics\u001b[39;00m \u001b[38;5;28;01mimport\u001b[39;00m cc_rank, complexity_visit\n\u001b[1;32m      5\u001b[0m \u001b[38;5;28;01mdef\u001b[39;00m \u001b[38;5;21mcalculate_code_metrics\u001b[39m(file_path):\n\u001b[1;32m      6\u001b[0m     \u001b[38;5;66;03m# Run radon to generate raw metrics\u001b[39;00m\n\u001b[1;32m      7\u001b[0m     raw_results \u001b[38;5;241m=\u001b[39m analyze(file_path)\n",
      "\u001b[0;31mImportError\u001b[0m: cannot import name 'cc_rank' from 'radon.metrics' (/home/vineeth/miniconda3/envs/se/lib/python3.10/site-packages/radon/metrics.py)"
     ]
    }
   ],
   "source": [
    "import subprocess\n",
    "from radon.raw import analyze\n",
    "from radon.metrics import cc_rank, complexity_visit\n",
    "\n",
    "def calculate_code_metrics(file_path):\n",
    "    # Run radon to generate raw metrics\n",
    "    raw_results = analyze(file_path)\n",
    "\n",
    "    # Run radon to generate cyclomatic complexity\n",
    "    cc_results = cc_rank(file_path)\n",
    "\n",
    "    return raw_results, cc_results\n",
    "\n",
    "def analyze_java_files(java_file_path):\n",
    "    metrics = calculate_code_metrics(java_file_path)\n",
    "\n",
    "    print(f\"Java File: {java_file_path}\")\n",
    "    for metric_name, metric_value in metrics.items():\n",
    "        print(f\"{metric_name}: {metric_value}\")\n",
    "    print(\"=\" * 50)\n",
    "\n",
    "# Specify the directory containing Java files\n",
    "java_file_path = '../temp/refactoring-test-repo-main/books-web/src/main/java/com/sismics/books/rest/resource/BaseResource.java'\n",
    "\n",
    "# Analyze Java files in the specified directory\n",
    "analyze_java_files(java_file_path)\n"
   ]
  },
  {
   "cell_type": "code",
   "execution_count": null,
   "metadata": {},
   "outputs": [],
   "source": []
  }
 ],
 "metadata": {
  "kernelspec": {
   "display_name": "se",
   "language": "python",
   "name": "python3"
  },
  "language_info": {
   "codemirror_mode": {
    "name": "ipython",
    "version": 3
   },
   "file_extension": ".py",
   "mimetype": "text/x-python",
   "name": "python",
   "nbconvert_exporter": "python",
   "pygments_lexer": "ipython3",
   "version": "3.10.13"
  }
 },
 "nbformat": 4,
 "nbformat_minor": 2
}
